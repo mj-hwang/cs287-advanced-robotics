{
 "cells": [
  {
   "cell_type": "markdown",
   "metadata": {},
   "source": [
    "# TODO\n",
    "* ~~Implement Policy~~\n",
    "* ~~Toy Random shooting~~\n",
    "* ~~Toy Collocation~~\n",
    "* ~~Check the underlying algorithm in the minimization --> Change it to what ever we have~~\n",
    "* ~~Implement MPC~~\n",
    "* See how to do QSP and different optimzation methods\n",
    "* Different formulations for constraints. SQPL, penalty, inner-loop with Adam/RMSProp/SGD (look at slides)\n",
    "\n",
    "# Environments\n",
    "* ~~Liner Quadratic Environment: They should check their implementation there. They could check it using LQR~~\n",
    "* Non-linear environmnet where shooting fails but collocation does not\n",
    "* ~~Environment with noise that open-loop does not work~~\n",
    "* Environment that both works but the optimization is too hard then it's better to do MPC. Or fancier methods.\n",
    "* Explore stability -- CartPole, SwingUp (??)\n",
    "\n",
    "# Theoretical Questions\n",
    "* A problem that it is convex when doing collocation, but not when doing BPTT -- i.e., quadratic dynamics\n",
    "* Influence on the dynamics"
   ]
  },
  {
   "cell_type": "code",
   "execution_count": 10,
   "metadata": {},
   "outputs": [],
   "source": [
    "import numpy as np\n",
    "from IPython import display\n",
    "import matplotlib.pyplot as plt\n",
    "from matplotlib.lines import Line2D\n",
    "import numpy as np\n",
    "import copy\n",
    "import scipy\n",
    "from scipy.io import loadmat\n",
    "from scipy.io import savemat\n",
    "import seaborn as sns\n",
    "sns.set_style('darkgrid')\n",
    "import warnings\n",
    "warnings.filterwarnings('ignore')\n",
    "from utils import *\n",
    "from envs.cart_pole_env import CartPoleEnv"
   ]
  },
  {
   "cell_type": "markdown",
   "metadata": {},
   "source": [
    "# Part 1 - Linear Environment\n",
    "We start with the linear environment, similar to the one on the previous homework, and we will compare the performance of optimizing the sequences of actions of shooting vs collocation.\n",
    "\n",
    "First, we define the environment:"
   ]
  },
  {
   "cell_type": "code",
   "execution_count": 11,
   "metadata": {},
   "outputs": [],
   "source": [
    "class LinearEnv(object):\n",
    "    def __init__(self, horizon=20, multiplier=1.):\n",
    "        self.A = multiplier * 0.1 * np.array([[0.0481, -0.5049, 0.0299, 2.6544, 1.0608],\n",
    "                                 [2.3846, -0.2312, -0.1260, -0.7945, 0.5279],\n",
    "                                 [1.4019, -0.6394, -0.1401, 0.5484, 0.1624],\n",
    "                                 [-0.0254, 0.4595, -0.0862, 2.1750, 1.1012],\n",
    "                                 [0.5172, 0.5060, 1.6579, -0.9407, -1.4441]])\n",
    "        self.B = np.array([[-0.7789, -1.2076],\n",
    "                           [0.4299, -1.6041],\n",
    "                           [0.2006, -1.7395],\n",
    "                           [0.8302, 0.2295],\n",
    "                           [-1.8465, 1.2780]])\n",
    "        self.H = 20\n",
    "\n",
    "        self.dx = self.A.shape[1]\n",
    "        self.du = self.B.shape[1]\n",
    "        self.Q = np.eye(self.dx)\n",
    "        self.R = np.eye(self.du)\n",
    "        self._init_state =  np.array([-1.9613, -1.3127, 0.0698, 0.0935, 1.2494])\n",
    "        self.reset()\n",
    "\n",
    "    def step(self, act):\n",
    "        cost = self._state.T @ self.Q @ self._state + act.T @ self.R @ act\n",
    "        state = self.A @ self._state + self.B @ act\n",
    "        self._state = state.copy()\n",
    "        return state, -cost, False, {}\n",
    "\n",
    "    def set_state(self, state):\n",
    "        self._state = state.copy()\n",
    "\n",
    "    def reset(self):\n",
    "        self._state = self._init_state.copy()\n",
    "        return self._init_state.copy()\n",
    "    \n",
    "    def render(self):\n",
    "        pass\n",
    "    \n",
    "    def close(self):\n",
    "        pass"
   ]
  },
  {
   "cell_type": "code",
   "execution_count": 12,
   "metadata": {},
   "outputs": [],
   "source": [
    "env = LinearEnv()"
   ]
  },
  {
   "cell_type": "markdown",
   "metadata": {},
   "source": [
    "## (a) Shooting"
   ]
  },
  {
   "cell_type": "markdown",
   "metadata": {},
   "source": [
    "In order perform the optimization, we need to define the the objective function to optimize.\n",
    "Fill in the code in ```eval_shooting``` which should return the cost of the trajectory\n",
    "with the specified sequences of actions."
   ]
  },
  {
   "cell_type": "code",
   "execution_count": 13,
   "metadata": {},
   "outputs": [],
   "source": [
    "def eval_shooting(env, actions):\n",
    "    state = env.reset()\n",
    "    total_cost = 0\n",
    "    actions = actions.reshape(env.H, env.du)\n",
    "    # Add your code here\n",
    "    for t in range(env.H):\n",
    "        act = actions[t]\n",
    "        state, r, d, _ = env.step(act)\n",
    "        total_cost -= r\n",
    "    # End\n",
    "    return total_cost"
   ]
  },
  {
   "cell_type": "markdown",
   "metadata": {},
   "source": [
    "Once we have defined the objective function, we can use an off-the-shelf optimizer \n",
    "to find the optimal actions. In these case, we use \n",
    "[BFGS](https://docs.scipy.org/doc/scipy-0.16.0/reference/optimize.minimize-bfgs.html#optimize-minimize-bfgs),\n",
    "which is a quasi-Newton method."
   ]
  },
  {
   "cell_type": "code",
   "execution_count": 14,
   "metadata": {},
   "outputs": [
    {
     "name": "stdout",
     "output_type": "stream",
     "text": [
      "Optimization terminated successfully.\n",
      "The optimal cost is 7.461\n"
     ]
    }
   ],
   "source": [
    "init_actions = np.random.uniform(low=-.1, high=.1, size=(env.H * env.du,))\n",
    "res = minimize(lambda x: eval_shooting(env, x),\n",
    "               init_actions, \n",
    "               method='BFGS',\n",
    "               options={'xtol': 1e-6, 'disp': False, 'verbose': 2}\n",
    "              )\n",
    "act_shooting = res.x\n",
    "print(res.message)\n",
    "print(\"The optimal cost is %.3f\" % res.fun)\n",
    "policy_shooting = ActPolicy(env, act_shooting)"
   ]
  },
  {
   "cell_type": "markdown",
   "metadata": {},
   "source": [
    "## (b) Collocation\n",
    "Now we will do the same, but for the collocation method. This objective function has the transitions on the variables states and then we enforce the states variables to be consistent with the dynamics. Hence, we need to \n",
    "first specify the cost in the state variables, and then impose the equality constraints. Fill in the code in ``eval_collocation`` and ``constraints``."
   ]
  },
  {
   "cell_type": "code",
   "execution_count": 15,
   "metadata": {},
   "outputs": [],
   "source": [
    "def eval_collocation(env, x):\n",
    "    state = env.reset()\n",
    "    total_cost = 0\n",
    "    states, acts = x[:env.H * env.dx], x[env.H * env.dx:]\n",
    "    states = states.reshape(env.H, env.dx)\n",
    "    acts = acts.reshape(env.H, env.du)\n",
    "    for t in range(env.H):\n",
    "        # get action\n",
    "        act = acts[t]\n",
    "        \n",
    "        # step\n",
    "        state, r, d, _ = env.step(act)\n",
    "        total_cost -= r\n",
    "        \n",
    "        # set next state\n",
    "        state_var = states[t]\n",
    "        env.set_state(state_var)\n",
    "    return total_cost\n",
    "\n",
    "def constraints(env, x):\n",
    "    state = env.reset()\n",
    "    constraints = []\n",
    "    states, acts = x[:env.H * env.dx], x[env.H * env.dx:]\n",
    "    states = states.reshape(env.H, env.dx)\n",
    "    acts = acts.reshape(env.H, env.du)\n",
    "    for t in range(env.H):\n",
    "        # get action\n",
    "        act = acts[t]\n",
    "\n",
    "        # step\n",
    "        state, r, d, _ = env.step(act)\n",
    "        \n",
    "        # set next state\n",
    "        state_var = states[t]\n",
    "        env.set_state(state_var)\n",
    "        constraints.append(state - state_var)\n",
    "    return np.concatenate(constraints)"
   ]
  },
  {
   "cell_type": "markdown",
   "metadata": {},
   "source": [
    "In these case, we can too use an off-the-shelf constraint optimzation algortihm. We use the\n",
    "[SLQP](https://docs.scipy.org/doc/scipy-0.16.0/reference/optimize.minimize-slsqp.html#optimize-minimize-slsqp)\n",
    " algorithm, which was seen in class."
   ]
  },
  {
   "cell_type": "code",
   "execution_count": 16,
   "metadata": {},
   "outputs": [
    {
     "name": "stdout",
     "output_type": "stream",
     "text": [
      "Optimization terminated successfully.\n",
      "The optimal cost is 7.461\n"
     ]
    }
   ],
   "source": [
    "init_states_and_actions = np.random.uniform(low=-.1, high=.1, size=(env.H * (env.du + env.dx),))\n",
    "eq_cons = {'type': 'eq', 'fun' : lambda x: constraints(env, x)}\n",
    "\n",
    "res = minimize(lambda x: eval_collocation(env, x),\n",
    "               init_states_and_actions,\n",
    "               method='SLSQP', \n",
    "               constraints=eq_cons,\n",
    "               options={'xtol': 1e-6, 'disp': False, 'verbose': 0, 'maxiter':201}\n",
    "              )\n",
    "print(res.message)\n",
    "print(\"The optimal cost is %.3f\" % res.fun)\n",
    "states_collocation, act_collocation = res.x[:env.H * env.dx], res.x[env.H * env.dx:]\n",
    "states_collocation = states_collocation.reshape(env.H, env.dx)\n",
    "policy_collocation = ActPolicy(env, act_collocation)"
   ]
  },
  {
   "cell_type": "markdown",
   "metadata": {},
   "source": [
    "### Evaluation"
   ]
  },
  {
   "cell_type": "code",
   "execution_count": 19,
   "metadata": {},
   "outputs": [
    {
     "name": "stdout",
     "output_type": "stream",
     "text": [
      "---- Quantitative Metrics ---\n",
      "Shooting Cost 7.461\n",
      "Collocation Cost 7.461\n",
      "Collocation Error 0.000\n",
      "\n",
      "\n",
      "---- Qualitative Metrics ---\n",
      "Evolution of the value of each dimension across 20 timesteps for the shooting methods.\n",
      "Both methods converge to the origin. Shooting: solid line(-);  Collocation: dashed line(--).\n"
     ]
    },
    {
     "data": {
      "image/png": "[encoded data removed]",
      "text/plain": [
       "<Figure size 432x288 with 1 Axes>"
      ]
     },
     "metadata": {},
     "output_type": "display_data"
    }
   ],
   "source": [
    "cost_shoot, states_shoot = rollout(env, policy_shooting)\n",
    "cost_col, states_col = rollout(env, policy_collocation)\n",
    "states_shoot, states_col = np.array(states_shoot), np.array(states_col)\n",
    "error = np.linalg.norm(states_col[1:,:] - np.array(states_collocation))\n",
    "ts = np.arange(states_shoot.shape[0])\n",
    "print(\"---- Quantitative Metrics ---\")\n",
    "print(\"Shooting Cost %.3f\" % cost_shoot)\n",
    "print(\"Collocation Cost %.3f\" % cost_col)\n",
    "print(\"Collocation Error %.3f\" % error)\n",
    "\n",
    "print(\"\\n\\n---- Qualitative Metrics ---\")\n",
    "print(\"Evolution of the value of each dimension across 20 timesteps for the shooting methods.\")\n",
    "print(\"Both methods converge to the origin. Shooting: solid line(-);  Collocation: dashed line(--).\")\n",
    "\n",
    "for i in range(env.dx):\n",
    "    plt.plot(ts, states_shoot[:, i], '-', ts, states_col[:, i], '--')\n",
    "\n"
   ]
  },
  {
   "cell_type": "markdown",
   "metadata": {},
   "source": [
    "# Part 2 - Stability\n",
    "TODO: Add a proper definition of stability."
   ]
  },
  {
   "cell_type": "code",
   "execution_count": 20,
   "metadata": {},
   "outputs": [
    {
     "data": {
      "text/plain": [
       "array([0.26052413, 0.14606684, 0.14606684, 0.09743496, 0.09743496])"
      ]
     },
     "execution_count": 20,
     "metadata": {},
     "output_type": "execute_result"
    }
   ],
   "source": [
    "np.abs(np.linalg.eigvals(env.A))"
   ]
  },
  {
   "cell_type": "markdown",
   "metadata": {},
   "source": [
    "How does the system behave if it becomes unstable?"
   ]
  },
  {
   "cell_type": "code",
   "execution_count": null,
   "metadata": {},
   "outputs": [],
   "source": []
  },
  {
   "cell_type": "markdown",
   "metadata": {},
   "source": [
    "## (a) Theoretical Question\n",
    "Consider the linear system that we currently have, i.e., $$x_{t+1} = Ax_t + B u_t$$\n",
    "and we want to minimize the \n",
    "a quadratic cost $$ \\sum_t x_t Q x_t$$\n",
    "Hence, we have a linear quadratic regulator problem. Derive the gradient update for the action variables for both optimization \n",
    "methods: shooting and collocation. In the case of collocation, do not include the update due to the constraints.\n",
    "\n",
    "Describe the behaviour of the update for both methdos when the system is stable and when is unstable.\n",
    "\n",
    "TODO: Explain that they have to do this in a pdf report."
   ]
  },
  {
   "cell_type": "markdown",
   "metadata": {},
   "source": [
    "## (b) Empirical Behaviour\n",
    "\n",
    "Now, we test the effect that you derived and see if the theory matches the empirical behavior. We use the same environment than in the previous part, but we just scale the transiton matrix so it has egeinvalues slightly larger than 1. Note this is the only change with respect to the previous part."
   ]
  },
  {
   "cell_type": "code",
   "execution_count": 21,
   "metadata": {},
   "outputs": [
    {
     "data": {
      "text/plain": [
       "array([2.60524128, 1.46066843, 1.46066843, 0.97434961, 0.97434961])"
      ]
     },
     "execution_count": 21,
     "metadata": {},
     "output_type": "execute_result"
    }
   ],
   "source": [
    "env = LinearEnv(multiplier=10.)\n",
    "np.abs(np.linalg.eigvals(env.A))"
   ]
  },
  {
   "cell_type": "markdown",
   "metadata": {},
   "source": [
    "#### Shooting"
   ]
  },
  {
   "cell_type": "code",
   "execution_count": 22,
   "metadata": {},
   "outputs": [
    {
     "name": "stdout",
     "output_type": "stream",
     "text": [
      "Desired error not necessarily achieved due to precision loss.\n",
      "The optimal cost is 72284018840248.438\n"
     ]
    }
   ],
   "source": [
    "init_actions = np.random.uniform(low=-.1, high=.1, size=(env.H * env.du,))\n",
    "res = minimize(lambda x: eval_shooting(env, x),\n",
    "               init_actions, \n",
    "               method='BFGS',\n",
    "               options={'xtol': 1e-6, 'disp': False, 'verbose': 2}\n",
    "              )\n",
    "print(res.message)\n",
    "print(\"The optimal cost is %.3f\" % res.fun)\n",
    "act_shooting = res.x\n",
    "policy_shooting = ActPolicy(env, act_shooting)"
   ]
  },
  {
   "cell_type": "code",
   "execution_count": null,
   "metadata": {},
   "outputs": [],
   "source": []
  },
  {
   "cell_type": "markdown",
   "metadata": {},
   "source": [
    "#### Collocation"
   ]
  },
  {
   "cell_type": "code",
   "execution_count": 23,
   "metadata": {},
   "outputs": [
    {
     "name": "stdout",
     "output_type": "stream",
     "text": [
      "Optimization terminated successfully.\n",
      "The optimal cost is 201.812\n"
     ]
    }
   ],
   "source": [
    "init_states_and_actions = np.random.uniform(low=-1., high=1., size=(env.H * (env.du + env.dx),))\n",
    "eq_cons = {'type': 'eq', 'fun' : lambda x: constraints(env, x)}\n",
    "\n",
    "res = minimize(lambda x: eval_collocation(env, x),\n",
    "               init_states_and_actions,\n",
    "               method='SLSQP', \n",
    "               constraints=eq_cons,\n",
    "               options={'ftol': 1e-10,\n",
    "                        'disp': False,\n",
    "                        'verbose': 0,\n",
    "                        'maxiter':501}\n",
    "              )\n",
    "print(res.message)\n",
    "print(\"The optimal cost is %.3f\" % res.fun)\n",
    "states_collocation, act_collocation = res.x[:env.H * env.dx], res.x[env.H * env.dx:]\n",
    "states_collocation = states_collocation.reshape(env.H, env.dx)\n",
    "policy_collocation = ActPolicy(env, act_collocation)"
   ]
  },
  {
   "cell_type": "markdown",
   "metadata": {},
   "source": [
    "### Evaluation"
   ]
  },
  {
   "cell_type": "code",
   "execution_count": 24,
   "metadata": {},
   "outputs": [
    {
     "name": "stdout",
     "output_type": "stream",
     "text": [
      "---- Quantitative Metrics ---\n",
      "Shooting Cost 72284018840248.438\n",
      "Collocation Cost 201.812\n",
      "Collocation Error 0.000\n",
      "\n",
      "\n",
      "---- Qualitative Metrics ---\n",
      "Evolution of the value of each dimension across 20 timesteps for the shooting methods.\n",
      "The shooting method diverges, while the collocation method achieves the desired state. Shooting: solid line(-);  Collocation: dashed line(--).\n"
     ]
    },
    {
     "data": {
      "image/png": "[encoded data removed]",
      "text/plain": [
       "<Figure size 432x288 with 1 Axes>"
      ]
     },
     "metadata": {},
     "output_type": "display_data"
    }
   ],
   "source": [
    "cost_shoot, states_shoot = rollout(env, policy_shooting)\n",
    "cost_col, states_col = rollout(env, policy_collocation)\n",
    "states_shoot, states_col = np.array(states_shoot), np.array(states_col)\n",
    "error = np.linalg.norm(states_col[1:,:] - np.array(states_collocation))\n",
    "print(\"---- Quantitative Metrics ---\")\n",
    "print(\"Shooting Cost %.3f\" % cost_shoot)\n",
    "print(\"Collocation Cost %.3f\" % cost_col)\n",
    "print(\"Collocation Error %.3f\" % error)\n",
    "\n",
    "print(\"\\n\\n---- Qualitative Metrics ---\")\n",
    "print(\"Evolution of the value of each dimension across 20 timesteps for the shooting methods.\")\n",
    "print(\"The shooting method diverges, while the collocation method achieves the desired state. Shooting: solid line(-);  Collocation: dashed line(--).\")\n",
    "ts = np.arange(states_shoot.shape[0])\n",
    "for i in range(env.dx):\n",
    "    plt.plot(ts, states_shoot[:, i], '-', ts, states_col[:, i], '--')"
   ]
  },
  {
   "cell_type": "markdown",
   "metadata": {},
   "source": [
    "# Part 3 - Non-linear systems\n",
    "These methods are directly applicable to non-linear systems. For instance, we could apply them to any MuJoCo environment. In the following we test them in the cart-pole and hopper environment."
   ]
  },
  {
   "cell_type": "code",
   "execution_count": 25,
   "metadata": {},
   "outputs": [],
   "source": [
    "# TODO: Add videos of these methods working in such environments."
   ]
  },
  {
   "cell_type": "code",
   "execution_count": null,
   "metadata": {},
   "outputs": [],
   "source": []
  },
  {
   "cell_type": "markdown",
   "metadata": {},
   "source": [
    "# Part 4 - Open-loop vs. Closed-loop\n",
    "Until now, we have been optimizing directly the sequences of actions and then applying each of the ation in the sequences \"blindly\". While this suffice in deterministic environments, in the presence of noise it does not work out well usually. Because of the stochastic transitions, the state that you encounter at a specific time-step differs from the one predicted by the optimzation problem; as a result, the action found is no longer valid. In stochastic environments, we need close loop controllers in the for parametric policies (such as linear or neural-networks) or non-parametric policies (such as model predictive control).\n",
    "\n",
    "In the following, we will compare the different behaviour of open-loop and close-loop control methods. Use the optimal cost for the action optimization methods to check the validity of your implementation."
   ]
  },
  {
   "cell_type": "code",
   "execution_count": 26,
   "metadata": {},
   "outputs": [],
   "source": [
    "env = CartPoleEnv()"
   ]
  },
  {
   "cell_type": "markdown",
   "metadata": {},
   "source": [
    "#### Action Optimization -- Shooting"
   ]
  },
  {
   "cell_type": "code",
   "execution_count": 27,
   "metadata": {},
   "outputs": [
    {
     "name": "stdout",
     "output_type": "stream",
     "text": [
      "Optimization terminated successfully.\n",
      "The optimal cost is 0.004\n"
     ]
    }
   ],
   "source": [
    "init_actions = np.random.uniform(low=-.1, high=.1, size=(env.H * env.du,))\n",
    "res = minimize(lambda x: eval_shooting(env, x),\n",
    "               init_actions, \n",
    "               method='BFGS',\n",
    "               options={'xtol': 1e-6, 'disp': False, 'verbose': 2}\n",
    "              )\n",
    "print(res.message)\n",
    "print(\"The optimal cost is %.3f\" % res.fun)\n",
    "act_shooting = res.x\n",
    "action_shooting = ActPolicy(env, act_shooting)"
   ]
  },
  {
   "cell_type": "markdown",
   "metadata": {},
   "source": [
    "#### Policy Optimization -- Shooting\n",
    "\n",
    "We will start by learning a neural network policy using a shooting method. Fill in the code for ``eval_policy``."
   ]
  },
  {
   "cell_type": "code",
   "execution_count": 28,
   "metadata": {},
   "outputs": [],
   "source": [
    "def eval_policy(env, policy, x):\n",
    "    state = env.reset()\n",
    "    total_cost = 0\n",
    "    policy.set_params(x)\n",
    "    \n",
    "    for t in range(env.H):\n",
    "        act = policy.get_action(state)\n",
    "        state, r, d, _ = env.step(act)\n",
    "        total_cost -= r\n",
    "    return total_cost"
   ]
  },
  {
   "cell_type": "code",
   "execution_count": 29,
   "metadata": {},
   "outputs": [
    {
     "name": "stdout",
     "output_type": "stream",
     "text": [
      "Optimization terminated successfully.\n",
      "The optimal cost is 0.004\n"
     ]
    }
   ],
   "source": [
    "policy_shooting = NNPolicy(env.dx, env.du, hidden_sizes=(20,))\n",
    "policy_shooting.init_params()\n",
    "params = policy_shooting.get_params()\n",
    "\n",
    "res = minimize(lambda x: eval_policy(env, policy_shooting, x),\n",
    "               params,\n",
    "               method='BFGS',\n",
    "               options={'xtol': 1e-6, 'disp': False, 'verbose': 2})\n",
    "print(res.message)\n",
    "print(\"The optimal cost is %.3f\" % res.fun)\n",
    "params_shooting = res.x\n",
    "policy_shooting.set_params(params_shooting)"
   ]
  },
  {
   "cell_type": "markdown",
   "metadata": {},
   "source": [
    "#### Model Predictive Control"
   ]
  },
  {
   "cell_type": "code",
   "execution_count": 30,
   "metadata": {},
   "outputs": [],
   "source": [
    "class MPCPolicy(object):\n",
    "    def __init__(self, env, horizon):\n",
    "        self.env = env\n",
    "        self.H = horizon\n",
    "        self.env = copy.deepcopy(env)\n",
    "        np.random.seed(1)\n",
    "        self.init_actions = np.random.uniform(low=-.1, high=.1, size=(horizon * env.du,))\n",
    "        \n",
    "    def get_action(self, state, timestep):\n",
    "        H = min(self.H, self.env.H - timestep)\n",
    "        def eval_mpc(actions):\n",
    "            env.set_state(state)\n",
    "            total_cost = 0\n",
    "            actions = actions.reshape(self.env.H, self.env.du)\n",
    "            for t in range(H):\n",
    "                act = actions[t]\n",
    "                _, r, *_ = env.step(act)\n",
    "                total_cost -= r\n",
    "            return total_cost\n",
    "    \n",
    "        res = minimize(eval_mpc,\n",
    "               self.init_actions, \n",
    "               method='BFGS',\n",
    "               options={'xtol': 1e-6, 'disp': False, 'verbose': 2}\n",
    "              )\n",
    "        act_shooting = res.x\n",
    "        return act_shooting[:self.env.du]\n",
    "        \n",
    "\n",
    "    def reset(self):\n",
    "        pass"
   ]
  },
  {
   "cell_type": "code",
   "execution_count": 46,
   "metadata": {
    "scrolled": true
   },
   "outputs": [],
   "source": [
    "mpc_policy = MPCPolicy(env, 1)"
   ]
  },
  {
   "cell_type": "markdown",
   "metadata": {},
   "source": [
    "## Evaluation Shooting"
   ]
  },
  {
   "cell_type": "code",
   "execution_count": 47,
   "metadata": {},
   "outputs": [
    {
     "name": "stdout",
     "output_type": "stream",
     "text": [
      "---- Quantitative Metrics ---\n",
      "Action Cost 72284018840248.438\n",
      "Policy Cost 201.812\n",
      "MPC Cost 201.812\n",
      "\n",
      "\n",
      "---- Qualitative Metrics ---\n",
      "Evolution of the value of each dimension across 20 timesteps for the shooting methods.\n",
      "The shooting method diverges, while the collocation method achieves the desired state. Shooting: solid line(-);  Collocation: dashed line(--).\n"
     ]
    },
    {
     "data": {
      "text/plain": [
       "[<matplotlib.lines.Line2D at 0x1258ac4d0>,\n",
       " <matplotlib.lines.Line2D at 0x124f3aa10>,\n",
       " <matplotlib.lines.Line2D at 0x124f3a390>]"
      ]
     },
     "execution_count": 47,
     "metadata": {},
     "output_type": "execute_result"
    },
    {
     "data": {
      "image/png": "[encoded data removed]",
      "text/plain": [
       "<Figure size 432x288 with 1 Axes>"
      ]
     },
     "metadata": {},
     "output_type": "display_data"
    }
   ],
   "source": [
    "noise = 1.\n",
    "cost_act, states_act = rollout(env, action_shooting, noise)\n",
    "cost_pi, states_pi = rollout(env, policy_shooting, noise)\n",
    "cost_mpc, states_mpc = rollout(env, mpc_policy, noise)\n",
    "states_act, states_pi, states_mpc = np.array(states_act), np.array(states_pi), np.array(states_mpc)\n",
    "print(\"---- Quantitative Metrics ---\")\n",
    "print(\"Action Cost %.3f\" % cost_shoot)\n",
    "print(\"Policy Cost %.3f\" % cost_col)\n",
    "print(\"MPC Cost %.3f\" % cost_col)\n",
    "\n",
    "print(\"\\n\\n---- Qualitative Metrics ---\")\n",
    "print(\"Evolution of the value of each dimension across 20 timesteps for the shooting methods.\")\n",
    "print(\"The shooting method diverges, while the collocation method achieves the desired state. Shooting: solid line(-);  Collocation: dashed line(--).\")\n",
    "ts = np.arange(states_shoot.shape[0])\n",
    "plt.plot(ts, states_act[:, 0], '-', ts, states_pi[:, 0], '--', states_mpc[:, 0], '.')\n",
    "plt.plot(ts, states_act[:, 2], '-', ts, states_pi[:, 2], '--', states_mpc[:, 2], '.')"
   ]
  },
  {
   "cell_type": "markdown",
   "metadata": {},
   "source": [
    "### Action Optimization -- Collocation"
   ]
  },
  {
   "cell_type": "code",
   "execution_count": 22,
   "metadata": {},
   "outputs": [
    {
     "name": "stdout",
     "output_type": "stream",
     "text": [
      "Optimization terminated successfully.    (Exit mode 0)\n",
      "            Current function value: 0.003890387983458782\n",
      "            Iterations: 16\n",
      "            Function evaluations: 1632\n",
      "            Gradient evaluations: 16\n"
     ]
    }
   ],
   "source": [
    "init_states_and_actions = np.random.uniform(low=-1., high=1., size=(env.H * (env.du + env.dx),))\n",
    "eq_cons = {'type': 'eq', 'fun' : lambda x: constraints(env, x)}\n",
    "\n",
    "res = minimize(lambda x: eval_collocation(env, x),\n",
    "               init_states_and_actions,\n",
    "               method='SLSQP', \n",
    "               constraints=eq_cons,\n",
    "               options={'ftol': 1e-10,\n",
    "                        'disp': True,\n",
    "                        'verbose': 0,\n",
    "                        'maxiter':501}\n",
    "              )\n",
    "states_collocation, act_collocation = res.x[:env.H * env.dx], res.x[env.H * env.dx:]\n",
    "states_collocation = states_collocation.reshape(env.H, env.dx)\n",
    "action_collocation = ActPolicy(env, act_collocation)"
   ]
  },
  {
   "cell_type": "code",
   "execution_count": null,
   "metadata": {},
   "outputs": [],
   "source": []
  },
  {
   "cell_type": "markdown",
   "metadata": {},
   "source": [
    "### Policy Optimization - Collocation"
   ]
  },
  {
   "cell_type": "code",
   "execution_count": 23,
   "metadata": {},
   "outputs": [],
   "source": [
    "def eval_policy_collocation(env, policy, x):\n",
    "    state = env.reset()\n",
    "    total_cost = 0\n",
    "    \n",
    "    states, params = x[:env.H * env.dx], x[env.H * env.dx:]\n",
    "    states = states.reshape(env.H, env.dx)\n",
    "    policy.set_params(params)\n",
    "    \n",
    "    for t in range(env.H):\n",
    "        # get action\n",
    "        act = policy.get_action(state)\n",
    "        \n",
    "        # step\n",
    "        state, r, d, _ = env.step(act)\n",
    "        total_cost -= r\n",
    "        \n",
    "        # set next state\n",
    "        state_var = states[t]\n",
    "        env.set_state(state_var)\n",
    "    return total_cost\n",
    "\n",
    "def constraints_policy(env, policy, x):\n",
    "    state = env.reset()\n",
    "    \n",
    "    states, params = x[:env.H * env.dx], x[env.H * env.dx:]\n",
    "    states = states.reshape(env.H, env.dx)\n",
    "    policy.set_params(params)\n",
    "    \n",
    "    constraints = []\n",
    "    for t in range(env.H):\n",
    "        # get action\n",
    "        act = policy.get_action(state)\n",
    "        \n",
    "        # step\n",
    "        state, r, d, _ = env.step(act)\n",
    "\n",
    "        state_var = states[t]\n",
    "        env.set_state(state_var)\n",
    "        constraints.append(state - state_var)\n",
    "    return np.concatenate(constraints)"
   ]
  },
  {
   "cell_type": "code",
   "execution_count": 24,
   "metadata": {},
   "outputs": [
    {
     "name": "stdout",
     "output_type": "stream",
     "text": [
      "Optimization terminated successfully.    (Exit mode 0)\n",
      "            Current function value: 0.003904677556350327\n",
      "            Iterations: 14\n",
      "            Function evaluations: 2846\n",
      "            Gradient evaluations: 14\n"
     ]
    }
   ],
   "source": [
    "x = np.zeros((env.H * env.dx,))\n",
    "policy_collocation = NNPolicy(env.dx, env.du, hidden_sizes=(20,))\n",
    "policy_collocation.init_params()\n",
    "params = policy_collocation.get_params()\n",
    "x = np.concatenate([x, params])\n",
    "eq_cons = {'type': 'eq', 'fun' : lambda x: constraints_policy(env, policy_collocation, x)}\n",
    "\n",
    "res = minimize(lambda x: eval_policy_collocation(env, policy_collocation, x),\n",
    "               x,\n",
    "               method='SLSQP', \n",
    "               constraints=eq_cons,\n",
    "               options={'xtol': 1e-8, 'disp': True, 'verbose': 2, 'maxiter':501})\n",
    "states_collocation, params_col = res.x[:env.H * env.dx], res.x[env.H * env.dx:]\n",
    "states_collocation = states_collocation.reshape(env.H, env.dx)\n",
    "policy_collocation.set_params(params_col)"
   ]
  },
  {
   "cell_type": "markdown",
   "metadata": {},
   "source": [
    "## Evaluation Collocation"
   ]
  },
  {
   "cell_type": "code",
   "execution_count": 25,
   "metadata": {},
   "outputs": [
    {
     "name": "stdout",
     "output_type": "stream",
     "text": [
      "Cost Actions 1043.5796029662488\n",
      "Cost Policy 84.78716506686044\n"
     ]
    },
    {
     "data": {
      "text/plain": [
       "[<matplotlib.lines.Line2D at 0x11e1fc090>,\n",
       " <matplotlib.lines.Line2D at 0x11e206990>]"
      ]
     },
     "execution_count": 25,
     "metadata": {},
     "output_type": "execute_result"
    },
    {
     "data": {
      "image/png": "[encoded data removed]",
      "text/plain": [
       "<Figure size 432x288 with 1 Axes>"
      ]
     },
     "metadata": {},
     "output_type": "display_data"
    }
   ],
   "source": [
    "noise = 1.\n",
    "cost_act, states_act = rollout(env, action_collocation, noise)\n",
    "cost_pi, states_pi = rollout(env, policy_collocation, noise)\n",
    "states_act, states_pi = np.array(states_act), np.array(states_pi)\n",
    "print(\"Cost Actions\", cost_act)\n",
    "print(\"Cost Policy\", cost_pi)\n",
    "ts = np.arange(states_shoot.shape[0])\n",
    "\n",
    "plt.plot(ts, states_act[:, 0], '-', ts, states_pi[:, 0], '--')\n",
    "plt.plot(ts, states_act[:, 2], '-', ts, states_pi[:, 2], '--')"
   ]
  },
  {
   "cell_type": "markdown",
   "metadata": {},
   "source": [
    "## Model Predictive Control"
   ]
  },
  {
   "cell_type": "markdown",
   "metadata": {},
   "source": []
  },
  {
   "cell_type": "markdown",
   "metadata": {},
   "source": [
    "# Optimization Methods"
   ]
  },
  {
   "cell_type": "markdown",
   "metadata": {},
   "source": [
    "## Merit function"
   ]
  },
  {
   "cell_type": "code",
   "execution_count": 31,
   "metadata": {},
   "outputs": [],
   "source": [
    "def merit_function(env, mu, x):\n",
    "    cost = eval_collocation(env, x)\n",
    "    cons = constraints(env, x)\n",
    "    merit_val = cost + mu * np.sum(np.abs(cons))\n",
    "    return merit_val"
   ]
  },
  {
   "cell_type": "markdown",
   "metadata": {},
   "source": [
    "## Penalty Formulation"
   ]
  },
  {
   "cell_type": "code",
   "execution_count": 53,
   "metadata": {},
   "outputs": [
    {
     "name": "stdout",
     "output_type": "stream",
     "text": [
      "\n",
      "Iteration 0:\n",
      "Warning: Maximum number of iterations has been exceeded.\n",
      "         Current function value: 0.004021\n",
      "         Iterations: 201\n",
      "         Function evaluations: 22848\n",
      "         Gradient evaluations: 224\n",
      "\n",
      "Iteration 1:\n",
      "Warning: Desired error not necessarily achieved due to precision loss.\n",
      "         Current function value: 0.003987\n",
      "         Iterations: 42\n",
      "         Function evaluations: 12456\n",
      "         Gradient evaluations: 122\n",
      "\n",
      "Iteration 2:\n",
      "Warning: Desired error not necessarily achieved due to precision loss.\n",
      "         Current function value: 0.003987\n",
      "         Iterations: 22\n",
      "         Function evaluations: 13476\n",
      "         Gradient evaluations: 132\n",
      "\n",
      "Iteration 3:\n",
      "Warning: Desired error not necessarily achieved due to precision loss.\n",
      "         Current function value: 0.004025\n",
      "         Iterations: 22\n",
      "         Function evaluations: 9600\n",
      "         Gradient evaluations: 94\n",
      "\n",
      "Iteration 4:\n",
      "Warning: Desired error not necessarily achieved due to precision loss.\n",
      "         Current function value: 0.004084\n",
      "         Iterations: 18\n",
      "         Function evaluations: 7764\n",
      "         Gradient evaluations: 76\n",
      "\n",
      "Iteration 5:\n",
      "Warning: Desired error not necessarily achieved due to precision loss.\n",
      "         Current function value: 0.004175\n",
      "         Iterations: 10\n",
      "         Function evaluations: 9396\n",
      "         Gradient evaluations: 92\n"
     ]
    }
   ],
   "source": [
    "t = 1.5\n",
    "init_states_and_actions = np.random.uniform(low=-.1, high=.1, size=(env.H * (env.du + env.dx),))\n",
    "for i in range(15):\n",
    "    print(\"\\nIteration %d:\"% i)\n",
    "    mu = t ** i\n",
    "    res = minimize(lambda x: merit_function(env, mu, x),\n",
    "               init_states_and_actions,\n",
    "               method='BFGS', \n",
    "               options={'xtol': 1e-6, 'disp': True, 'verbose': 2, 'maxiter':201}\n",
    "              )\n",
    "    if np.linalg.norm(init_states_and_actions - res.x) < 1e-6: break\n",
    "    init_states_and_actions = res.x\n",
    "states_var_penalty, act_penalty = res.x[:env.H * env.dx], res.x[env.H * env.dx:]\n",
    "states_var_penalty = states_var_penalty.reshape(env.H, env.dx)\n",
    "act_penalty = ActPolicy(env, act_penalty) "
   ]
  },
  {
   "cell_type": "markdown",
   "metadata": {},
   "source": [
    "## Dual Descent"
   ]
  },
  {
   "cell_type": "code",
   "execution_count": 54,
   "metadata": {},
   "outputs": [
    {
     "name": "stdout",
     "output_type": "stream",
     "text": [
      "\n",
      "Iteration 0:\n",
      "Warning: Desired error not necessarily achieved due to precision loss.\n",
      "         Current function value: 0.004770\n",
      "         Iterations: 157\n",
      "         Function evaluations: 28776\n",
      "         Gradient evaluations: 282\n",
      "\n",
      "Iteration 1:\n",
      "Warning: Desired error not necessarily achieved due to precision loss.\n",
      "         Current function value: 0.004346\n",
      "         Iterations: 28\n",
      "         Function evaluations: 12966\n",
      "         Gradient evaluations: 127\n",
      "\n",
      "Iteration 2:\n",
      "Warning: Desired error not necessarily achieved due to precision loss.\n",
      "         Current function value: 0.004109\n",
      "         Iterations: 61\n",
      "         Function evaluations: 19698\n",
      "         Gradient evaluations: 193\n",
      "\n",
      "Iteration 3:\n",
      "Warning: Desired error not necessarily achieved due to precision loss.\n",
      "         Current function value: 0.004038\n",
      "         Iterations: 61\n",
      "         Function evaluations: 13779\n",
      "         Gradient evaluations: 135\n",
      "\n",
      "Iteration 4:\n",
      "Warning: Desired error not necessarily achieved due to precision loss.\n",
      "         Current function value: 0.004015\n",
      "         Iterations: 24\n",
      "         Function evaluations: 14802\n",
      "         Gradient evaluations: 145\n",
      "\n",
      "Iteration 5:\n",
      "Warning: Desired error not necessarily achieved due to precision loss.\n",
      "         Current function value: 0.004008\n",
      "         Iterations: 26\n",
      "         Function evaluations: 9396\n",
      "         Gradient evaluations: 92\n",
      "\n",
      "Iteration 6:\n",
      "Warning: Desired error not necessarily achieved due to precision loss.\n",
      "         Current function value: 0.004006\n",
      "         Iterations: 16\n",
      "         Function evaluations: 11130\n",
      "         Gradient evaluations: 109\n"
     ]
    }
   ],
   "source": [
    "init_states_and_actions = np.random.uniform(low=-.1, high=.1, size=(env.H * (env.du + env.dx),))\n",
    "mu = 1.5\n",
    "alpha = 1e-3\n",
    "for i in range(15):\n",
    "    print(\"\\nIteration %d:\" % i)\n",
    "    res = minimize(lambda x: merit_function(env, mu, x),\n",
    "               init_states_and_actions,\n",
    "               method='BFGS', \n",
    "               options={'xtol': 1e-6, 'disp': True, 'verbose': 0, 'maxiter':201}\n",
    "              )\n",
    "    if np.linalg.norm(init_states_and_actions - res.x) < 1e-6: break\n",
    "    init_states_and_actions = res.x\n",
    "    mu = mu + 1e-3 * np.sum(np.abs(constraints(env, init_states_and_actions)))\n",
    "states_var_dual_descent, act_dual_descent = res.x[:env.H * env.dx], res.x[env.H * env.dx:]\n",
    "states_var_dual_descent = states_var_dual_descent.reshape(env.H, env.dx)\n",
    "act_dual_descent = ActPolicy(env, act_dual_descent) "
   ]
  },
  {
   "cell_type": "markdown",
   "metadata": {},
   "source": [
    "# Evaluation"
   ]
  },
  {
   "cell_type": "markdown",
   "metadata": {},
   "source": []
  },
  {
   "cell_type": "code",
   "execution_count": 55,
   "metadata": {},
   "outputs": [
    {
     "name": "stdout",
     "output_type": "stream",
     "text": [
      "Cost Penalty 0.0038919435846041127\n",
      "Cost Dual Descent 0.003927687661475197\n",
      "Error Penalty 0.00020881833313276496\n",
      "Error Dual Descent 0.0002052404272933568\n"
     ]
    },
    {
     "data": {
      "text/plain": [
       "[<matplotlib.lines.Line2D at 0x11e5a4c90>,\n",
       " <matplotlib.lines.Line2D at 0x11e609210>]"
      ]
     },
     "execution_count": 55,
     "metadata": {},
     "output_type": "execute_result"
    },
    {
     "data": {
      "image/png": "[encoded data removed]",
      "text/plain": [
       "<Figure size 432x288 with 1 Axes>"
      ]
     },
     "metadata": {},
     "output_type": "display_data"
    }
   ],
   "source": [
    "cost_penalty, states_penalty = rollout(env, act_penalty)\n",
    "cost_dual_descent, states_dual_descent = rollout(env, act_dual_descent)\n",
    "states_penalty, states_dual_descent = np.array(states_penalty), np.array(states_dual_descent)\n",
    "error_penalty = np.linalg.norm(states_penalty[1:,:] - np.array(states_var_penalty))\n",
    "error_dual_descent = np.linalg.norm(states_dual_descent[1:,:] - np.array(states_var_dual_descent))\n",
    "\n",
    "print(\"Cost Penalty\", cost_penalty)\n",
    "print(\"Cost Dual Descent\", cost_dual_descent)\n",
    "\n",
    "print(\"\\nError Penalty\", error_penalty)\n",
    "print(\"Error Dual Descent\", error_dual_descent)\n",
    "\n",
    "ts = np.arange(states_penalty.shape[0])\n",
    "plt.plot(ts, states_penalty[:, 0], '-', ts, states_penalty[:, 0], '--')\n",
    "plt.plot(ts, states_penalty[:, 2], '-', ts, states_penalty[:, 2], '--')"
   ]
  },
  {
   "cell_type": "code",
   "execution_count": null,
   "metadata": {},
   "outputs": [],
   "source": []
  },
  {
   "cell_type": "code",
   "execution_count": null,
   "metadata": {},
   "outputs": [],
   "source": []
  },
  {
   "cell_type": "code",
   "execution_count": null,
   "metadata": {},
   "outputs": [],
   "source": [
    "# Penalty Method"
   ]
  },
  {
   "cell_type": "code",
   "execution_count": null,
   "metadata": {},
   "outputs": [],
   "source": [
    "# Dual-descent"
   ]
  },
  {
   "cell_type": "code",
   "execution_count": null,
   "metadata": {},
   "outputs": [],
   "source": []
  },
  {
   "cell_type": "markdown",
   "metadata": {},
   "source": [
    "# Normal Env Shooting\n"
   ]
  },
  {
   "cell_type": "code",
   "execution_count": null,
   "metadata": {},
   "outputs": [],
   "source": []
  },
  {
   "cell_type": "code",
   "execution_count": null,
   "metadata": {},
   "outputs": [],
   "source": []
  },
  {
   "cell_type": "code",
   "execution_count": null,
   "metadata": {},
   "outputs": [],
   "source": []
  },
  {
   "cell_type": "markdown",
   "metadata": {},
   "source": [
    "# Normal Env Collocation"
   ]
  },
  {
   "cell_type": "code",
   "execution_count": null,
   "metadata": {},
   "outputs": [],
   "source": []
  },
  {
   "cell_type": "code",
   "execution_count": null,
   "metadata": {},
   "outputs": [],
   "source": []
  },
  {
   "cell_type": "code",
   "execution_count": null,
   "metadata": {},
   "outputs": [],
   "source": []
  },
  {
   "cell_type": "code",
   "execution_count": null,
   "metadata": {},
   "outputs": [],
   "source": []
  },
  {
   "cell_type": "code",
   "execution_count": null,
   "metadata": {},
   "outputs": [],
   "source": []
  },
  {
   "cell_type": "markdown",
   "metadata": {},
   "source": [
    "# Hellicopter Dynamics"
   ]
  },
  {
   "cell_type": "code",
   "execution_count": null,
   "metadata": {},
   "outputs": [],
   "source": []
  },
  {
   "cell_type": "code",
   "execution_count": null,
   "metadata": {},
   "outputs": [],
   "source": []
  }
 ],
 "metadata": {
  "kernelspec": {
   "display_name": "Python 3",
   "language": "python",
   "name": "python3"
  },
  "language_info": {
   "codemirror_mode": {
    "name": "ipython",
    "version": 3
   },
   "file_extension": ".py",
   "mimetype": "text/x-python",
   "name": "python",
   "nbconvert_exporter": "python",
   "pygments_lexer": "ipython3",
   "version": "3.7.4"
  }
 },
 "nbformat": 4,
 "nbformat_minor": 2
}
