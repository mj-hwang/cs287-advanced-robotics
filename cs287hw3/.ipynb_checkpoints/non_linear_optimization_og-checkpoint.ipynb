{
 "cells": [
  {
   "cell_type": "code",
   "execution_count": 1,
   "metadata": {},
   "outputs": [],
   "source": [
    "import numpy as np\n",
    "from IPython import display\n",
    "import matplotlib.pyplot as plt\n",
    "from matplotlib.lines import Line2D\n",
    "import copy\n",
    "import scipy\n",
    "from scipy.io import loadmat\n",
    "from scipy.io import savemat\n",
    "import seaborn as sns\n",
    "sns.set_style('darkgrid')\n",
    "import warnings\n",
    "warnings.filterwarnings('ignore')\n",
    "from IPython.display import Image\n",
    "from utils import *\n",
    "from envs.cart_pole_env import CartPoleEnv\n",
    "from envs.hopper_env import HopperModEnv\n",
    "from envs.cheetah_env import CheetahModEnv"
   ]
  },
  {
   "cell_type": "markdown",
   "metadata": {},
   "source": [
    "# Part 1 [30 pt] - Linear Environment\n",
    "We start with the linear environment, similar to the one on the previous homework, and we consider optimizing for a sequence of actions, comparing shooting and collocation.\n",
    "\n",
    "First, we define the environment:"
   ]
  },
  {
   "cell_type": "code",
   "execution_count": 2,
   "metadata": {},
   "outputs": [],
   "source": [
    "class LinearEnv(object):\n",
    "    def __init__(self, horizon=20, multiplier=1.):\n",
    "        self.A = multiplier * 0.1 * np.array([[0.0481, -0.5049, 0.0299, 2.6544, 1.0608],\n",
    "                                 [2.3846, -0.2312, -0.1260, -0.7945, 0.5279],\n",
    "                                 [1.4019, -0.6394, -0.1401, 0.5484, 0.1624],\n",
    "                                 [-0.0254, 0.4595, -0.0862, 2.1750, 1.1012],\n",
    "                                 [0.5172, 0.5060, 1.6579, -0.9407, -1.4441]])\n",
    "        self.B = np.array([[-0.7789, -1.2076],\n",
    "                           [0.4299, -1.6041],\n",
    "                           [0.2006, -1.7395],\n",
    "                           [0.8302, 0.2295],\n",
    "                           [-1.8465, 1.2780]])\n",
    "        self.H = 20\n",
    "\n",
    "        self.dx = self.A.shape[1]\n",
    "        self.du = self.B.shape[1]\n",
    "        self.Q = np.eye(self.dx)\n",
    "        self.R = np.eye(self.du)\n",
    "        self._init_state =  np.array([-1.9613, -1.3127, 0.0698, 0.0935, 1.2494])\n",
    "        self.reset()\n",
    "\n",
    "    def step(self, act):\n",
    "        cost = self._state.T @ self.Q @ self._state + act.T @ self.R @ act\n",
    "        state = self.A @ self._state + self.B @ act\n",
    "        self._state = state.copy()\n",
    "        return state, cost, False, {}\n",
    "\n",
    "    def set_state(self, state):\n",
    "        self._state = state.copy()\n",
    "\n",
    "    def reset(self):\n",
    "        self._state = self._init_state.copy()\n",
    "        return self._init_state.copy()"
   ]
  },
  {
   "cell_type": "code",
   "execution_count": 3,
   "metadata": {},
   "outputs": [],
   "source": [
    "env = LinearEnv()"
   ]
  },
  {
   "cell_type": "markdown",
   "metadata": {},
   "source": [
    "Now, we implement the non-linear optimzation algorithms. A correct implementation should \n",
    "give an optimal cost of 7.461 for both methods, and a collocation error of 0."
   ]
  },
  {
   "cell_type": "markdown",
   "metadata": {},
   "source": [
    "## [15 pt] Shooting"
   ]
  },
  {
   "cell_type": "markdown",
   "metadata": {},
   "source": [
    "In the shooting method, we look for the sequences of actions that minimizes the total cost by directly substuting the constraints in the objective:\n",
    "\n",
    "$$ \\min_{u_0, \\dots, u_H} c(x_0, u_0) + c(f(x_0, u_0), u_1) + c(f(f(x_0, u_0), u_1) \\cdots $$\n",
    "\n",
    "\n",
    "In order to perform the optimization, we need to define the objective function to optimize.\n",
    "Fill in the code in ```eval_shooting``` which should return the cost of the trajectory\n",
    "with the specified sequences of actions."
   ]
  },
  {
   "cell_type": "code",
   "execution_count": 4,
   "metadata": {},
   "outputs": [],
   "source": [
    "def eval_shooting(env, actions):\n",
    "    \"\"\"\n",
    "    Find the cumulative cost of the sequences of actions, which has shape [horizon, action dimension].\n",
    "    Use the function step of the environment: env.step(action). It returns: next_state, cost, done,\n",
    "    env_infos.\n",
    "    \"\"\"\n",
    "    state = env.reset()\n",
    "    actions = actions.reshape(env.H, env.du)\n",
    "    horizon = env.H\n",
    "    \n",
    "    total_cost = 0\n",
    "\n",
    "    \n",
    "    \"\"\"YOUR CODE HERE\"\"\"\n",
    "\n",
    "    \"\"\"YOUR CODE ENDS HERE\"\"\"\n",
    "    return total_cost"
   ]
  },
  {
   "cell_type": "markdown",
   "metadata": {},
   "source": [
    "Once we have defined the objective function, we can use an off-the-shelf optimizer \n",
    "to find the optimal actions. In these case, we use \n",
    "[BFGS](https://docs.scipy.org/doc/scipy-0.16.0/reference/optimize.minimize-bfgs.html#optimize-minimize-bfgs),\n",
    "which is a quasi-Newton method."
   ]
  },
  {
   "cell_type": "code",
   "execution_count": 5,
   "metadata": {},
   "outputs": [
    {
     "name": "stdout",
     "output_type": "stream",
     "text": [
      "Optimization terminated successfully.\n",
      "The optimal cost is 7.461\n"
     ]
    }
   ],
   "source": [
    "def minimize_shooting(env, init_actions=None):\n",
    "    if init_actions is None:\n",
    "        init_actions = np.random.uniform(low=-.1, high=.1, size=(env.H * env.du,))\n",
    "    \"\"\"YOUR CODE HERE\"\"\"\n",
    "    res = minimize(fun=# Fill this with a function that returns the cumulative cost given the states and actions,\n",
    "               x0=# Fill this with the inital actions,  \n",
    "               method='BFGS',\n",
    "               options={'xtol': 1e-6, 'disp': False, 'verbose': 2}\n",
    "              )\n",
    "\n",
    "    act_shooting = res.x\n",
    "    print(res.message)\n",
    "    print(\"The optimal cost is %.3f\" % res.fun)\n",
    "    policy_shooting = ActPolicy(env=env, \n",
    "                                actions=act_shooting\n",
    "                               )\n",
    "    return policy_shooting\n",
    "\"\"\"YOUR CODE ENDS HERE\"\"\"\n",
    "\n",
    "policy_shooting = minimize_shooting(env)"
   ]
  },
  {
   "cell_type": "markdown",
   "metadata": {},
   "source": [
    "## [15 pt] Collocation\n",
    "Now we will do the same, but for the collocation method.  In addition to the objective function, we also have to formulate the equality constraints that capture the dynamics.\n",
    "\n",
    "$$ \\min_{u_0, x_1, u_1, \\dots, x_H, u_H} c(x_0, u_0) + c(x_1, u_1) + \\cdots + c(x_H, u_H)$$\n",
    "$$\\text{s.t.:} \\quad x_{t+1} = f(x_t, u_t) \\quad \\forall t$$\n",
    "\n",
    "Fill in the code in ``eval_collocation`` and ``constraints``."
   ]
  },
  {
   "cell_type": "code",
   "execution_count": 6,
   "metadata": {},
   "outputs": [],
   "source": [
    "def eval_collocation(env, x):\n",
    "    \"\"\"\n",
    "    Find the cost of the sequences of actions and state that have shape [horizon, action dimension]\n",
    "    and [horizon, state_dim], respectively.\n",
    "    Use the function step of the environment: env.step(action). It returns: next_state, cost, done,\n",
    "    env_infos.\n",
    "    In order to set the environment at a specific state use the function env.set_state(state)\n",
    "    \"\"\"\n",
    "    state = env.reset()\n",
    "    total_cost = 0\n",
    "    states, actions = x[:env.H * env.dx], x[env.H * env.dx:]\n",
    "    states = states.reshape(env.H, env.dx)\n",
    "    actions = actions.reshape(env.H, env.du)\n",
    "    horizon = env.H\n",
    "    \"\"\"YOUR CODE HERE\"\"\"\n",
    "    \n",
    "    \"\"\"YOUR CODE ENDS HERE\"\"\"\n",
    "    return total_cost\n",
    "\n",
    "def constraints(env, x):\n",
    "    \"\"\"\n",
    "    In optimization, the equality constraints are usually specified as h(x) = 0. In this case, we would have\n",
    "    x_{t+1} - f(x_t, u_t) = 0. Here, you have to create a list that contains the value of the different\n",
    "    constraints, i.e., [x_1 - f(x_0, u_0), x_2 - f(x_1, u_1),..., x_H - f(x_{H-1}, u_{H-1})].\n",
    "    Use the function env.set_state(state) to set the state to the variable x_t.\n",
    "    Use the function step of the environment: env.step(action), which returns next_state, cost, done,\n",
    "    env_infos; to obtain x_{t+1}.\n",
    "    \"\"\"\n",
    "    state = env.reset()\n",
    "    constraints = []\n",
    "    states, actions = x[:env.H * env.dx], x[env.H * env.dx:]\n",
    "    states = states.reshape(env.H, env.dx)\n",
    "    actions = actions.reshape(env.H, env.du)\n",
    "    horizon = env.H\n",
    "    \n",
    "\n",
    "    \"\"\"YOUR CODE HERE\"\"\"\n",
    "    \n",
    "    \"\"\"YOUR CODE ENDS HERE\"\"\"\n",
    "    return np.concatenate(constraints)"
   ]
  },
  {
   "cell_type": "markdown",
   "metadata": {},
   "source": [
    "We can too use an off-the-shelf constraint optimzation algortihm, in thise case, we make use of the\n",
    "[SLQP](https://docs.scipy.org/doc/scipy-0.16.0/reference/optimize.minimize-slsqp.html#optimize-minimize-slsqp)\n",
    " algorithm, which was seen in class."
   ]
  },
  {
   "cell_type": "code",
   "execution_count": 7,
   "metadata": {},
   "outputs": [
    {
     "name": "stdout",
     "output_type": "stream",
     "text": [
      "Optimization terminated successfully.\n",
      "The optimal cost is 7.461\n"
     ]
    }
   ],
   "source": [
    "def minimize_collocation(env, init_states_and_actions=None):\n",
    "    if init_states_and_actions is None:\n",
    "        init_states_and_actions = np.random.uniform(low=-.1, high=.1, size=(env.H * (env.du + env.dx),))\n",
    "\n",
    "    \"\"\"YOUR CODE HERE\"\"\"\n",
    "    eq_cons = {'type': 'eq',\n",
    "               'fun' : lambda x: constraints(env, x)\n",
    "              }\n",
    "\n",
    "    res = minimize(fun=# Fill this with a function that returns the cumulative cost given the states and actions,\n",
    "                   x0= # Fill this with the initial actions,\n",
    "                   method='SLSQP', \n",
    "                   constraints=eq_cons,\n",
    "                   options={'xtol': 1e-6, 'disp': False, 'verbose': 0, 'maxiter':201}\n",
    "                  )\n",
    "    print(res.message)\n",
    "    print(\"The optimal cost is %.3f\" % res.fun)\n",
    "    states_collocation, act_collocation = res.x[:env.H * env.dx], res.x[env.H * env.dx:]\n",
    "    states_collocation = states_collocation.reshape(env.H, env.dx)\n",
    "    policy_collocation = ActPolicy(env,\n",
    "                                   actions=act_collocation)\n",
    "    \"\"\"YOUR CODE ENDS HERE\"\"\"\n",
    "    return policy_collocation, states_collocation\n",
    "\n",
    "policy_collocation, states_collocation = minimize_collocation(env)"
   ]
  },
  {
   "cell_type": "markdown",
   "metadata": {},
   "source": [
    "### Evaluation"
   ]
  },
  {
   "cell_type": "code",
   "execution_count": 8,
   "metadata": {},
   "outputs": [
    {
     "name": "stdout",
     "output_type": "stream",
     "text": [
      "---- Quantitative Metrics ---\n",
      "Shooting Cost 7.461\n",
      "Collocation Cost 7.461\n",
      "Collocation Error 0.000\n",
      "\n",
      "\n",
      "---- Qualitative Metrics ---\n",
      "Evolution of the value of each dimension across 20 timesteps for the shooting methods.\n",
      "Both methods converge to the origin. Shooting: solid line(-);  Collocation: dashed line(--).\n"
     ]
    },
    {
     "data": {
      "image/png": "[encoded data removed]",
      "text/plain": [
       "<Figure size 432x288 with 1 Axes>"
      ]
     },
     "metadata": {
      "needs_background": "light"
     },
     "output_type": "display_data"
    }
   ],
   "source": [
    "cost_shoot, states_shoot = rollout(env, policy_shooting)\n",
    "cost_col, states_col = rollout(env, policy_collocation)\n",
    "states_shoot, states_col = np.array(states_shoot), np.array(states_col)\n",
    "error = np.linalg.norm(states_col - np.array(states_collocation))\n",
    "ts = np.arange(states_shoot.shape[0])\n",
    "print(\"---- Quantitative Metrics ---\")\n",
    "print(\"Shooting Cost %.3f\" % cost_shoot)\n",
    "print(\"Collocation Cost %.3f\" % cost_col)\n",
    "print(\"Collocation Error %.3f\" % error)\n",
    "\n",
    "print(\"\\n\\n---- Qualitative Metrics ---\")\n",
    "print(\"Evolution of the value of each dimension across 20 timesteps for the shooting methods.\")\n",
    "print(\"Both methods converge to the origin. Shooting: solid line(-);  Collocation: dashed line(--).\")\n",
    "\n",
    "for i in range(env.dx):\n",
    "    plt.plot(ts, states_shoot[:, i], '-', ts, states_col[:, i], '--')\n",
    "\n"
   ]
  },
  {
   "cell_type": "markdown",
   "metadata": {},
   "source": [
    "# Part 2 [20 pt] - Stability\n",
    " A discrete-time linear system is asymptotically stable if in the presence of no input the system converges towards the zero state. In practice, this means that the absolute value of the eigenvalues of the transition matrix must be smaller than 1. If that is not the case, the system is unstable.\n",
    "\n",
    "For instance, the previous system is stable:"
   ]
  },
  {
   "cell_type": "code",
   "execution_count": 9,
   "metadata": {},
   "outputs": [
    {
     "data": {
      "text/plain": [
       "array([0.26052413, 0.14606684, 0.14606684, 0.09743496, 0.09743496])"
      ]
     },
     "execution_count": 9,
     "metadata": {},
     "output_type": "execute_result"
    }
   ],
   "source": [
    "np.abs(np.linalg.eigvals(env.A))"
   ]
  },
  {
   "cell_type": "markdown",
   "metadata": {},
   "source": [
    "## [20 pt] Theoretical Question\n",
    "Consider the linear system that we currently have, i.e., $$x_{t+1} = Ax_t + B u_t$$\n",
    "and we want to minimize the quadratic cost $$ \\frac{1}{2}\\sum_t x_t Q x_t$$\n",
    "Hence, we have a linear quadratic regulator problem. Derive the gradient update for the action variables for both optimization \n",
    "methods: shooting and collocation. In the case of collocation, do not include the update due to the constraints.\n",
    "\n",
    "Explain in a few lines why the shooting method might become unstable while the collocation method does not.\n",
    "\n",
    "Refer to the pdf for reporting this question."
   ]
  },
  {
   "cell_type": "markdown",
   "metadata": {},
   "source": [
    "## [0 pt] Empirical Behaviour\n",
    "\n",
    "Now, we test the effect that you derived and see if the theory matches the empirical behavior. We use the same environment as in the previous part, but we just scale the transiton matrix so it has some eigenvalues larger than 1. Note this is the only change with respect to the previous part."
   ]
  },
  {
   "cell_type": "code",
   "execution_count": 10,
   "metadata": {},
   "outputs": [
    {
     "data": {
      "text/plain": [
       "array([2.60524128, 1.46066843, 1.46066843, 0.97434961, 0.97434961])"
      ]
     },
     "execution_count": 10,
     "metadata": {},
     "output_type": "execute_result"
    }
   ],
   "source": [
    "env = LinearEnv(multiplier=10.)\n",
    "np.abs(np.linalg.eigvals(env.A))"
   ]
  },
  {
   "cell_type": "markdown",
   "metadata": {},
   "source": [
    "### Shooting"
   ]
  },
  {
   "cell_type": "code",
   "execution_count": 11,
   "metadata": {},
   "outputs": [
    {
     "name": "stdout",
     "output_type": "stream",
     "text": [
      "Desired error not necessarily achieved due to precision loss.\n",
      "The optimal cost is 72284018840248.438\n"
     ]
    }
   ],
   "source": [
    "policy_shooting = minimize_shooting(env)"
   ]
  },
  {
   "cell_type": "markdown",
   "metadata": {},
   "source": [
    "### Collocation"
   ]
  },
  {
   "cell_type": "code",
   "execution_count": 12,
   "metadata": {},
   "outputs": [
    {
     "name": "stdout",
     "output_type": "stream",
     "text": [
      "Optimization terminated successfully.\n",
      "The optimal cost is 201.812\n"
     ]
    }
   ],
   "source": [
    "policy_collocation, states_collocation = minimize_collocation(env)"
   ]
  },
  {
   "cell_type": "markdown",
   "metadata": {},
   "source": [
    "### Evaluation"
   ]
  },
  {
   "cell_type": "code",
   "execution_count": 13,
   "metadata": {},
   "outputs": [
    {
     "name": "stdout",
     "output_type": "stream",
     "text": [
      "---- Quantitative Metrics ---\n",
      "Shooting Cost 72284018840248.438\n",
      "Collocation Cost 201.812\n",
      "Collocation Error 0.000\n",
      "\n",
      "\n",
      "---- Qualitative Metrics ---\n",
      "Evolution of the value of each dimension across 20 timesteps for the shooting methods.\n",
      "The shooting method diverges, while the collocation method achieves the desired state. Shooting: solid line(-);  Collocation: dashed line(--).\n"
     ]
    },
    {
     "data": {
      "image/png": "[encoded data removed]",
      "text/plain": [
       "<Figure size 432x288 with 1 Axes>"
      ]
     },
     "metadata": {
      "needs_background": "light"
     },
     "output_type": "display_data"
    }
   ],
   "source": [
    "cost_shoot, states_shoot = rollout(env, policy_shooting)\n",
    "cost_col, states_col = rollout(env, policy_collocation)\n",
    "states_shoot, states_col = np.array(states_shoot), np.array(states_col)\n",
    "error = np.linalg.norm(states_col - np.array(states_collocation))\n",
    "print(\"---- Quantitative Metrics ---\")\n",
    "print(\"Shooting Cost %.3f\" % cost_shoot)\n",
    "print(\"Collocation Cost %.3f\" % cost_col)\n",
    "print(\"Collocation Error %.3f\" % error)\n",
    "\n",
    "print(\"\\n\\n---- Qualitative Metrics ---\")\n",
    "print(\"Evolution of the value of each dimension across 20 timesteps for the shooting methods.\")\n",
    "print(\"The shooting method diverges, while the collocation method achieves the desired state. Shooting: solid line(-);  Collocation: dashed line(--).\")\n",
    "ts = np.arange(states_shoot.shape[0])\n",
    "for i in range(env.dx):\n",
    "    plt.plot(ts, states_shoot[:, i], '-', ts, states_col[:, i], '--')"
   ]
  },
  {
   "cell_type": "markdown",
   "metadata": {},
   "source": [
    "# Part 3 [0 pt] - Non-linear Environments\n",
    "A nice thing of these algorithms is that they can be applied without any modification to non-linear environments such as the MuJoCo ones. For instance, here we learn a sequence of actions that leads to forward movement in the half-cheetah environment."
   ]
  },
  {
   "cell_type": "code",
   "execution_count": null,
   "metadata": {},
   "outputs": [],
   "source": [
    "env = CheetahModEnv()\n",
    "init_actions = np.random.uniform(low=-.25, high=.25, size=(env.H * env.du,))\n",
    "action_shooting = minimize_shooting(env, init_actions)\n",
    "cost_shooting, states_shooting = rollout(env, action_shooting)"
   ]
  },
  {
   "cell_type": "markdown",
   "metadata": {},
   "source": [
    "![SegmentLocal](vids/rollout.gif \"segment\")"
   ]
  },
  {
   "cell_type": "markdown",
   "metadata": {},
   "source": [
    "# Part 4 [30 pt] - Open-loop vs. Closed-loop\n",
    "Until now, we have been optimizing directly the sequences of actions and then applying each of the actions in the sequences \"blindly\". While this suffices in deterministic environments, in the presence of noise it does not work out well usually. Because of the stochastic transitions, the state that you encounter at a specific time-step differs from the one predicted by the optimzation problem; as a result, the action found is no longer valid. In stochastic environments, we need close loop controllers in the form of either (i) parametric policies (e.g. linear feedback controllers or neural-networks), or (ii) non-parametric policies (e.g. model predictive control).\n",
    "\n",
    "In the following, we will compare the different behaviour of open-loop and closed-loop control methods. Use the optimal cost for the action optimization methods to check the validity of your implementation."
   ]
  },
  {
   "cell_type": "code",
   "execution_count": 14,
   "metadata": {},
   "outputs": [],
   "source": [
    "env = CartPoleEnv()"
   ]
  },
  {
   "cell_type": "markdown",
   "metadata": {},
   "source": [
    "## Action Optimization"
   ]
  },
  {
   "cell_type": "code",
   "execution_count": 15,
   "metadata": {},
   "outputs": [
    {
     "name": "stdout",
     "output_type": "stream",
     "text": [
      "Optimization terminated successfully.\n",
      "The optimal cost is 0.008\n"
     ]
    }
   ],
   "source": [
    "action_shooting = minimize_shooting(env)"
   ]
  },
  {
   "cell_type": "markdown",
   "metadata": {},
   "source": [
    "## [10 pt] Policy Optimization\n",
    "\n",
    "We will start by learning a neural network policy using a shooting method. Fill in the code for ``eval_policy``."
   ]
  },
  {
   "cell_type": "code",
   "execution_count": 16,
   "metadata": {},
   "outputs": [],
   "source": [
    "def eval_policy(env, policy, params):\n",
    "    \"\"\"\n",
    "    Find the cost the policy with parameters params.\n",
    "    Use the function step of the environment: env.step(action). It returns: next_state, cost, done,\n",
    "    env_infos.\n",
    "    \n",
    "    You can set the parameters of the policy by policy.set_params(params) and get the action for the current state\n",
    "    with policy.get_action(state).\n",
    "    \"\"\"\n",
    "    state = env.reset()\n",
    "    total_cost = 0\n",
    "    horizon = env.H\n",
    "    \n",
    "    \"\"\"YOUR CODE HERE\"\"\"\n",
    "\n",
    "    \"\"\"YOUR CODE ENDS HERE\"\"\"\n",
    "    return total_cost"
   ]
  },
  {
   "cell_type": "code",
   "execution_count": 17,
   "metadata": {},
   "outputs": [
    {
     "name": "stdout",
     "output_type": "stream",
     "text": [
      "Optimization terminated successfully.\n",
      "The optimal cost is 0.008\n"
     ]
    }
   ],
   "source": [
    "def minimize_policy_shooting(env):\n",
    "    policy_shooting = NNPolicy(env.dx, env.du, hidden_sizes=(10, 10))\n",
    "    policy_shooting.init_params()\n",
    "    params = policy_shooting.get_params()\n",
    "\n",
    "    res = minimize(lambda x: eval_policy(env, policy_shooting, x),\n",
    "                   params,\n",
    "                   method='BFGS',\n",
    "                   options={'xtol': 1e-6, 'disp': False, 'verbose': 2})\n",
    "    print(res.message)\n",
    "    print(\"The optimal cost is %.3f\" % res.fun)\n",
    "    params_shooting = res.x\n",
    "    policy_shooting.set_params(params_shooting)\n",
    "    return policy_shooting\n",
    "\n",
    "policy_shooting = minimize_policy_shooting(env)"
   ]
  },
  {
   "cell_type": "markdown",
   "metadata": {},
   "source": [
    "## [10 pt] Model Predictive Control"
   ]
  },
  {
   "cell_type": "code",
   "execution_count": 18,
   "metadata": {},
   "outputs": [],
   "source": [
    "class MPCPolicy(object):\n",
    "    def __init__(self, env, horizon):\n",
    "        self.env = env\n",
    "        self.H = horizon\n",
    "        self.env = copy.deepcopy(env)\n",
    "        np.random.seed(1)\n",
    "        self.init_actions = np.random.uniform(low=-.1, high=.1, size=(horizon * env.du,))\n",
    "        \n",
    "    def get_action(self, state, timestep):\n",
    "        \"\"\"\n",
    "        Find the cost of the sequences of actions and state that have shape [horizon, action dimension]\n",
    "        and [horizon, state_dim], respectively.\n",
    "        Use the function step of the environment: env.step(action). It returns, next_state, cost, done,\n",
    "        env_infos.\n",
    "\n",
    "        In order to set the environment at a specific state use the function self.env.set_state(state)\n",
    "        \"\"\"\n",
    "        env = self.env\n",
    "        horizon = min(self.H, env.H - timestep)\n",
    "        \n",
    "        def eval_mpc(actions, state):\n",
    "            actions = actions.reshape(horizon, env.du)\n",
    "            total_cost = 0\n",
    "            \"\"\"YOUR CODE HERE\"\"\"\n",
    "           \n",
    "            \"\"\"YOUR CODE ENDS HERE\"\"\"\n",
    "            return total_cost\n",
    "\n",
    "        self.init_actions = np.random.uniform(low=-.1, high=.1, size=(horizon * env.du,))\n",
    "        res = minimize(lambda x: eval_mpc(x, state),\n",
    "               self.init_actions, \n",
    "               method='BFGS',\n",
    "               options={'xtol': 1e-6, 'disp': False, 'verbose': 2}\n",
    "              )\n",
    "        act_shooting = res.x\n",
    "        return act_shooting[:env.du]\n",
    "        \n",
    "\n",
    "    def reset(self):\n",
    "        pass"
   ]
  },
  {
   "cell_type": "code",
   "execution_count": 19,
   "metadata": {
    "scrolled": true
   },
   "outputs": [],
   "source": [
    "mpc_policy = MPCPolicy(env, env.H)"
   ]
  },
  {
   "cell_type": "markdown",
   "metadata": {},
   "source": [
    "## Evaluation\n",
    "### No noise"
   ]
  },
  {
   "cell_type": "code",
   "execution_count": 20,
   "metadata": {},
   "outputs": [
    {
     "name": "stdout",
     "output_type": "stream",
     "text": [
      "---- Quantitative Metrics ---\n",
      "Action Cost 0.008\n",
      "Policy Cost 0.008\n",
      "MPC Cost 0.008\n",
      "\n",
      "\n",
      "---- Qualitative Metrics ---\n",
      "Evolution of the value of the angle and angular velocity of the cart-pole environment across 50 timesteps for the open-loop, policy controller, and mpc controller.\n",
      "All the approaches achieve the same cost and follow the same trajectory. Open-loop: solid line(-);  Policy: dashed line(--). MPC: dotted line(.)\n"
     ]
    },
    {
     "data": {
      "image/png": "[encoded data removed]",
      "text/plain": [
       "<Figure size 432x288 with 1 Axes>"
      ]
     },
     "metadata": {
      "needs_background": "light"
     },
     "output_type": "display_data"
    }
   ],
   "source": [
    "noise = 0.\n",
    "cost_act, states_act = rollout(env, action_shooting, noise)\n",
    "cost_pi, states_pi = rollout(env, policy_shooting, noise)\n",
    "cost_mpc, states_mpc = rollout(env, mpc_policy, noise)\n",
    "states_act, states_pi, states_mpc = np.array(states_act), np.array(states_pi), np.array(states_mpc)\n",
    "print(\"---- Quantitative Metrics ---\")\n",
    "print(\"Action Cost %.3f\" % cost_act)\n",
    "print(\"Policy Cost %.3f\" % cost_pi)\n",
    "print(\"MPC Cost %.3f\" % cost_mpc)\n",
    "\n",
    "print(\"\\n\\n---- Qualitative Metrics ---\")\n",
    "print(\"Evolution of the value of the angle and angular velocity of the cart-pole environment across 50 timesteps for the open-loop, policy controller, and mpc controller.\")\n",
    "print(\"All the approaches achieve the same cost and follow the same trajectory. Open-loop: solid line(-);  Policy: dashed line(--). MPC: dotted line(.)\")\n",
    "ts = np.arange(states_act.shape[0])\n",
    "plt.plot(ts, states_act[:, 2], '-', ts, states_pi[:, 2], '--', states_mpc[:, 2], '.')\n",
    "plt.plot(ts, states_act[:, 3], '-', ts, states_pi[:, 3], '--', states_mpc[:, 3], '.')\n",
    "plt.show()"
   ]
  },
  {
   "cell_type": "markdown",
   "metadata": {},
   "source": [
    "### Noise"
   ]
  },
  {
   "cell_type": "code",
   "execution_count": 21,
   "metadata": {},
   "outputs": [
    {
     "name": "stdout",
     "output_type": "stream",
     "text": [
      "---- Quantitative Metrics ---\n",
      "Action Cost 4544.439\n",
      "Policy Cost 122.799\n",
      "MPC Cost 55.286\n",
      "\n",
      "\n",
      "---- Qualitative Metrics ---\n",
      "Evolution of the value of the angle and angular velocity of the cart-pole environment across 50 timesteps for the open-loop, policy controller, and mpc controller.\n",
      "In the presence of noise, the open-loop controller fails to stablize the pole, while the policy and mpc controller succeed. The MPC approach achieves the best performance. Open-loop: solid line(-);  Policy: dashed line(--). MPC: dotted line(.)\n"
     ]
    },
    {
     "data": {
      "image/png": "[encoded data removed]",
      "text/plain": [
       "<Figure size 432x288 with 1 Axes>"
      ]
     },
     "metadata": {
      "needs_background": "light"
     },
     "output_type": "display_data"
    }
   ],
   "source": [
    "noise = 1.\n",
    "cost_act, states_act = rollout(env, action_shooting, noise)\n",
    "cost_pi, states_pi = rollout(env, policy_shooting, noise)\n",
    "cost_mpc, states_mpc = rollout(env, mpc_policy, noise)\n",
    "states_act, states_pi, states_mpc = np.array(states_act), np.array(states_pi), np.array(states_mpc)\n",
    "print(\"---- Quantitative Metrics ---\")\n",
    "print(\"Action Cost %.3f\" % cost_act)\n",
    "print(\"Policy Cost %.3f\" % cost_pi)\n",
    "print(\"MPC Cost %.3f\" % cost_mpc)\n",
    "\n",
    "print(\"\\n\\n---- Qualitative Metrics ---\")\n",
    "print(\"Evolution of the value of the angle and angular velocity of the cart-pole environment across 50 timesteps for the open-loop, policy controller, and mpc controller.\")\n",
    "print(\"In the presence of noise, the open-loop controller fails to stablize the pole, while the policy and mpc controller succeed. The MPC approach achieves the best performance. Open-loop: solid line(-);  Policy: dashed line(--). MPC: dotted line(.)\")\n",
    "ts = np.arange(states_act.shape[0])\n",
    "plt.plot(ts, states_act[:, 2], '-', ts, states_pi[:, 2], '--', states_mpc[:, 2], '.')\n",
    "plt.plot(ts, states_act[:, 3], '-', ts, states_pi[:, 3], '--', states_mpc[:, 3], '.')\n",
    "plt.show()"
   ]
  },
  {
   "cell_type": "markdown",
   "metadata": {},
   "source": [
    "Why does the MPC method perform better than having a policy?\n",
    "Is there anyway we could make the performance of the policy better?\n",
    "\n",
    "Reply in no more than 5 lines in the box below."
   ]
  },
  {
   "cell_type": "markdown",
   "metadata": {},
   "source": [
    "## [10 pt] Response:"
   ]
  },
  {
   "cell_type": "markdown",
   "metadata": {},
   "source": [
    "# Part 5 [20 pt] - Optimization Methods\n",
    "In the previous parts, in order to optimize the collocation methods, we have used a built-in constrained optimization algorithm. However, creating our own contrained optimization solver is fairly easy given a general solver that minimizes unconstrained functions. Here, we implement two solvers by using the merit function.\n"
   ]
  },
  {
   "cell_type": "markdown",
   "metadata": {},
   "source": [
    "## [10 pt] Merit function\n",
    "Given a standard constrained optimization problem:\n",
    "$$\\min_x g_0(x) $$\n",
    "$$\\text{s.t.:} \\quad g_i(x) \\leq 0 \\quad \\forall i$$\n",
    "$$\\quad \\quad h_j(x) = 0 \\quad \\forall j$$\n",
    "\n",
    "We can construct its *merit function* $f_\\mu$ as\n",
    "$$ f_\\mu(x) = g_0 +\\mu \\sum_i |g_i(x)|^+ + \\mu \\sum_j |h_j(x)| $$\n",
    "\n",
    "The merit function allows us to transform a constrained optimization problem to an unconstrained one that has the same optimum as $\\mu \\rightarrow \\infty$. Here, we will just solve collocation problems without any constrain on the state space. As a result, we will not have inequality constraints."
   ]
  },
  {
   "cell_type": "code",
   "execution_count": null,
   "metadata": {},
   "outputs": [],
   "source": [
    "def merit_function(env, mu, x):\n",
    "    \"\"\"\n",
    "    Implementation of the merit function. We use the previously defined functions eval_collocation and constraints\n",
    "    to obtain the cost and error of the variables.\n",
    "    \n",
    "    Note: code it in a way that mu can be either a scalar or a vector\n",
    "    \"\"\"\n",
    "    cost = eval_collocation(env, x)\n",
    "    cons = constraints(env, x)\n",
    "    \n",
    "    \"\"\"YOUR CODE HERE\"\"\"\n",
    "    merit_val = # Fill this\n",
    "    \"\"\"YOUR CODE ENDS HERE\"\"\"\n",
    "    return merit_val"
   ]
  },
  {
   "cell_type": "markdown",
   "metadata": {},
   "source": [
    "## [5 pt] Penalty Formulation\n",
    "The easiest implementation is the penalty formulation. The penalty formulation iterates between finding the minimum of the merit function and increasing the scalar value of $\\mu$."
   ]
  },
  {
   "cell_type": "code",
   "execution_count": null,
   "metadata": {},
   "outputs": [],
   "source": [
    "t = 1.5\n",
    "mu = 1\n",
    "init_states_and_actions = np.random.uniform(low=-.1, high=.1, size=(env.H * (env.du + env.dx),))\n",
    "num_iter = 5\n",
    "\n",
    "\n",
    "for i in range(num_iter):\n",
    "    \"\"\"\n",
    "    Otimization of the penalty function, which after finding the minimium for the merrit function we increase the\n",
    "    value of mu. The value of mu should be increased as specified in the lecture.\n",
    "    \"\"\"  \n",
    "    \n",
    "    \"\"\"YOUR CODE HERE\"\"\"\n",
    "    \n",
    "    mu = # Fill this\n",
    "    \n",
    "    \"\"\"YOUR CODE ENDS HERE\"\"\"\n",
    "    \n",
    "    \n",
    "    res = minimize(lambda x: merit_function(env, mu, x),\n",
    "               init_states_and_actions,\n",
    "               method='BFGS', \n",
    "               options={'xtol': 1e-6, 'disp': False, 'verbose': 2, 'maxiter':201}\n",
    "              )\n",
    "    print(\"\\nIteration %d:\"% i)\n",
    "    print(\"Value of mu %.3f\" % mu)\n",
    "    print(\"Inner optimization: %s\" % res.message)\n",
    "    print(\"Value of merit function %.3f\" % res.fun)\n",
    "    if np.linalg.norm(init_states_and_actions - res.x) < 1e-6: break\n",
    "    init_states_and_actions = res.x\n",
    "    \n",
    "    \n",
    "\n",
    "states_var_penalty, act_penalty = res.x[:env.H * env.dx], res.x[env.H * env.dx:]\n",
    "states_var_penalty = states_var_penalty.reshape(env.H, env.dx)\n",
    "act_penalty = ActPolicy(env, act_penalty) "
   ]
  },
  {
   "cell_type": "markdown",
   "metadata": {},
   "source": [
    "## [5 pt] Dual Descent\n",
    "A better method is the dual descent formulation, which directly solves the Langrangian of the previous optimization problem:\n",
    "$$ \\max_{\\lambda_i, \\nu_j} \\min_x g_0 +\\sum_i \\lambda_ig_i(x) + \\sum_j \\nu_j h_j(x) $$\n",
    "\n",
    "The dual descent method iterates between solving the inner minimization problem and taking a gradient step on the dual variables $\\lambda_i$ and $\\nu_j$. Here, again, we omit the $g_i$ and $\\lambda_i$ terms since we do not have these constraints.\n",
    "\n",
    "However, using the merit function instead of the Lagrangian results in a more stable behavior. For this excersice, we use the merit function. In such case, the function $h_j(x)$ is $|x_{j+1} - f(x_j, u_j)|$."
   ]
  },
  {
   "cell_type": "code",
   "execution_count": null,
   "metadata": {},
   "outputs": [],
   "source": [
    "init_states_and_actions = np.random.uniform(low=-.1, high=.1, size=(env.H * (env.du + env.dx),))\n",
    "nu = 1.5 * np.ones_like(constraints(env, init_states_and_actions))\n",
    "alpha = 1\n",
    "num_iter = 5\n",
    "\n",
    "for i in range(num_iter):\n",
    "    \"\"\"\n",
    "    Otimization using dual descent, at each iteration we find the optimal for the merrit function, and then take\n",
    "    a gradient step for nu.\n",
    "    \"\"\" \n",
    "    res = minimize(lambda x: merit_function(env, nu, x),\n",
    "               init_states_and_actions,\n",
    "               method='BFGS', \n",
    "               options={'xtol': 1e-6, 'disp': False, 'verbose': 0, 'maxiter':201}\n",
    "              )\n",
    "    print(\"\\nIteration %d:\"% i)\n",
    "    print(\"Norm of nu %.3f\" % np.linalg.norm(nu))\n",
    "    print(\"Inner optimization: %s\" % res.message)\n",
    "    print(\"Value of lagrangian %.3f\" % res.fun)\n",
    "    if np.linalg.norm(init_states_and_actions - res.x) < 1e-6: break\n",
    "        \n",
    "    init_states_and_actions = res.x\n",
    "\n",
    "    \"\"\"\n",
    "    Use the function constraints(env, init_state_and_actions) and the learning rate alpha to update the\n",
    "    value of mu.\n",
    "    \"\"\"\n",
    "    \"\"\"YOUR CODE HERE \"\"\"\n",
    "    nu = # Fill this\n",
    "    \"\"\"YOUR CODE ENDS HERE\"\"\"\n",
    "\n",
    "states_var_dual_descent, act_dual_descent = res.x[:env.H * env.dx], res.x[env.H * env.dx:]\n",
    "states_var_dual_descent = states_var_dual_descent.reshape(env.H, env.dx)\n",
    "act_dual_descent = ActPolicy(env, act_dual_descent) "
   ]
  },
  {
   "cell_type": "markdown",
   "metadata": {},
   "source": [
    "# Evaluation"
   ]
  },
  {
   "cell_type": "code",
   "execution_count": null,
   "metadata": {},
   "outputs": [],
   "source": [
    "cost_penalty, states_penalty = rollout(env, act_penalty)\n",
    "cost_dual_descent, states_dual_descent = rollout(env, act_dual_descent)\n",
    "states_penalty, states_dual_descent = np.array(states_penalty), np.array(states_dual_descent)\n",
    "error_penalty = np.linalg.norm(states_penalty - np.array(states_var_penalty))\n",
    "error_dual_descent = np.linalg.norm(states_dual_descent - np.array(states_var_dual_descent))\n",
    "\n",
    "print(\"---- Quantitative Metrics ---\")\n",
    "print(\"Cost Penalty %.3f\" % cost_penalty)\n",
    "print(\"Cost Dual Descent %.3f\" % cost_dual_descent)\n",
    "\n",
    "print(\"Error Penalty %.3f\" % error_penalty)\n",
    "print(\"Error Dual Descent %.3f\" % error_dual_descent)\n",
    "\n",
    "print(\"\\n\\n---- Qualitative Metrics ---\")\n",
    "print(\"Evolution of the value of the angle and angular velocity of the cart-pole environment across 50 timesteps for the penalty and dual descent methods.\")\n",
    "print(\"Dual descent yields to slighlthly better results. Both present non-zero error on the constraints and fail to stabilize the cart-pole.  Penalty: solid line(-);  Dual descent: dashed line(--).\")\n",
    "ts = np.arange(states_penalty.shape[0])\n",
    "plt.plot(ts, states_penalty[:, 2], '-', ts, states_dual_descent[:, 2], '--')\n",
    "plt.plot(ts, states_penalty[:, 3], '-', ts, states_dual_descent[:, 3], '--')\n",
    "plt.show()"
   ]
  },
  {
   "cell_type": "code",
   "execution_count": null,
   "metadata": {},
   "outputs": [],
   "source": []
  }
 ],
 "metadata": {
  "kernelspec": {
   "display_name": "Python 3",
   "language": "python",
   "name": "python3"
  },
  "language_info": {
   "codemirror_mode": {
    "name": "ipython",
    "version": 3
   },
   "file_extension": ".py",
   "mimetype": "text/x-python",
   "name": "python",
   "nbconvert_exporter": "python",
   "pygments_lexer": "ipython3",
   "version": "3.7.3"
  }
 },
 "nbformat": 4,
 "nbformat_minor": 2
}
